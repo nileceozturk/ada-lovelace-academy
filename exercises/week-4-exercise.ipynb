{
 "cells": [
  {
   "cell_type": "markdown",
   "metadata": {},
   "source": [
    "# Exploring SpaceX Data via API \n",
    "\n",
    "This Jupyter Notebook explores data from the SpaceX API, extracting information about rockets, launch pads, past launches, upcoming launches, payloads, capsules, and more\n",
    "\n",
    "### Fetching Data:\n",
    "- Data was obtained from various endpoints of the SpaceX API without requiring an API key.\n",
    "- Retrieved information includes details about rockets, launch pads, past and upcoming launches, payloads, and capsules."
   ]
  },
  {
   "cell_type": "code",
   "execution_count": 16,
   "metadata": {},
   "outputs": [],
   "source": [
    "# Importing libraries\n",
    "import requests\n",
    "import pandas as pd\n",
    "import seaborn as sns"
   ]
  },
  {
   "cell_type": "markdown",
   "metadata": {},
   "source": [
    "### Access SpaceX API"
   ]
  },
  {
   "cell_type": "code",
   "execution_count": 3,
   "metadata": {},
   "outputs": [],
   "source": [
    "# SpaceX API endpoint for past launches\n",
    "endpoint = 'https://api.spacexdata.com/v4/launches/past'\n",
    "\n",
    "# Make a GET request to fetch the data\n",
    "response = requests.get(endpoint)"
   ]
  },
  {
   "cell_type": "code",
   "execution_count": 4,
   "metadata": {},
   "outputs": [
    {
     "name": "stdout",
     "output_type": "stream",
     "text": [
      "Data fetched successfully.\n"
     ]
    }
   ],
   "source": [
    "# Check if the request was successful (status code 200)\n",
    "if response.status_code == 200:\n",
    "    spacex_data = response.json()  # Get the JSON data\n",
    "    print(\"Data fetched successfully.\")\n",
    "else:\n",
    "    print(\"Failed to fetch data.\")"
   ]
  },
  {
   "cell_type": "markdown",
   "metadata": {},
   "source": [
    "### Access Rockets Data"
   ]
  },
  {
   "cell_type": "code",
   "execution_count": 5,
   "metadata": {},
   "outputs": [],
   "source": [
    "def get_rockets():\n",
    "    endpoint = 'https://api.spacexdata.com/v4/rockets'\n",
    "    response = requests.get(endpoint)\n",
    "    if response.status_code == 200:\n",
    "        return response.json()\n",
    "    else:\n",
    "        print(\"Failed to fetch rockets data.\")\n",
    "        return None\n",
    "\n",
    "# Fetch rockets data\n",
    "rockets_data = get_rockets()"
   ]
  },
  {
   "cell_type": "markdown",
   "metadata": {},
   "source": [
    "### Launch Pads Data"
   ]
  },
  {
   "cell_type": "code",
   "execution_count": 6,
   "metadata": {},
   "outputs": [],
   "source": [
    "def get_launch_pads():\n",
    "    endpoint = 'https://api.spacexdata.com/v4/launchpads'\n",
    "    response = requests.get(endpoint)\n",
    "    if response.status_code == 200:\n",
    "        return response.json()\n",
    "    else:\n",
    "        print(\"Failed to fetch launch pads data.\")\n",
    "        return None\n",
    "\n",
    "# Fetch launch pads data\n",
    "launch_pads_data = get_launch_pads()"
   ]
  },
  {
   "cell_type": "markdown",
   "metadata": {},
   "source": [
    "### Upcoming Launches Data"
   ]
  },
  {
   "cell_type": "code",
   "execution_count": 7,
   "metadata": {},
   "outputs": [],
   "source": [
    "def get_upcoming_launches():\n",
    "    endpoint = 'https://api.spacexdata.com/v4/launches/upcoming'\n",
    "    response = requests.get(endpoint)\n",
    "    if response.status_code == 200:\n",
    "        return response.json()\n",
    "    else:\n",
    "        print(\"Failed to fetch upcoming launches.\")\n",
    "        return None\n",
    "\n",
    "# Fetch upcoming launches data\n",
    "upcoming_launches_data = get_upcoming_launches()"
   ]
  },
  {
   "cell_type": "markdown",
   "metadata": {},
   "source": [
    "###  Access Past Launches Data"
   ]
  },
  {
   "cell_type": "code",
   "execution_count": 8,
   "metadata": {},
   "outputs": [],
   "source": [
    "def get_past_launches():\n",
    "    endpoint = 'https://api.spacexdata.com/v4/launches/past'\n",
    "    response = requests.get(endpoint)\n",
    "    if response.status_code == 200:\n",
    "        return response.json()\n",
    "    else:\n",
    "        print(\"Failed to fetch past launches.\")\n",
    "        return None\n",
    "\n",
    "past_launches_data = get_past_launches()"
   ]
  },
  {
   "cell_type": "markdown",
   "metadata": {},
   "source": [
    "###  Payloads Data"
   ]
  },
  {
   "cell_type": "code",
   "execution_count": 9,
   "metadata": {},
   "outputs": [],
   "source": [
    "def get_payloads():\n",
    "    endpoint = 'https://api.spacexdata.com/v4/payloads'\n",
    "    response = requests.get(endpoint)\n",
    "    if response.status_code == 200:\n",
    "        return response.json()\n",
    "    else:\n",
    "        print(\"Failed to fetch payloads data.\")\n",
    "        return None\n",
    "\n",
    "# Fetch payloads data\n",
    "payloads_data = get_payloads()"
   ]
  },
  {
   "cell_type": "markdown",
   "metadata": {},
   "source": [
    "### Convert Data to DataFrames"
   ]
  },
  {
   "cell_type": "code",
   "execution_count": 10,
   "metadata": {},
   "outputs": [],
   "source": [
    "# Convert fetched data into DataFrames using pd.DataFrame\n",
    "df_rockets = pd.DataFrame(rockets_data)\n",
    "df_launchpads = pd.DataFrame(launch_pads_data)\n",
    "df_upcoming_launches = pd.DataFrame(upcoming_launches_data)\n",
    "df_past_launches = pd.DataFrame(past_launches_data)\n",
    "df_payloads = pd.DataFrame(payloads_data)"
   ]
  },
  {
   "cell_type": "markdown",
   "metadata": {},
   "source": [
    "###  Saving DataFrames to CSV files"
   ]
  },
  {
   "cell_type": "code",
   "execution_count": 11,
   "metadata": {},
   "outputs": [],
   "source": [
    "df_rockets.to_csv('rockets.csv', index=False)\n",
    "df_launchpads.to_csv('launchpads.csv', index=False)\n",
    "df_upcoming_launches.to_csv('upcoming_launches.csv', index=False)\n",
    "df_past_launches.to_csv('past_launches.csv', index=False)\n",
    "df_payloads.to_csv('payloads.csv', index=False)"
   ]
  },
  {
   "cell_type": "markdown",
   "metadata": {},
   "source": [
    "### Exploring Data"
   ]
  },
  {
   "cell_type": "code",
   "execution_count": 11,
   "metadata": {},
   "outputs": [
    {
     "data": {
      "text/html": [
       "<div>\n",
       "<style scoped>\n",
       "    .dataframe tbody tr th:only-of-type {\n",
       "        vertical-align: middle;\n",
       "    }\n",
       "\n",
       "    .dataframe tbody tr th {\n",
       "        vertical-align: top;\n",
       "    }\n",
       "\n",
       "    .dataframe thead th {\n",
       "        text-align: right;\n",
       "    }\n",
       "</style>\n",
       "<table border=\"1\" class=\"dataframe\">\n",
       "  <thead>\n",
       "    <tr style=\"text-align: right;\">\n",
       "      <th></th>\n",
       "      <th>height</th>\n",
       "      <th>diameter</th>\n",
       "      <th>mass</th>\n",
       "      <th>first_stage</th>\n",
       "      <th>second_stage</th>\n",
       "      <th>engines</th>\n",
       "      <th>landing_legs</th>\n",
       "      <th>payload_weights</th>\n",
       "      <th>flickr_images</th>\n",
       "      <th>name</th>\n",
       "      <th>...</th>\n",
       "      <th>stages</th>\n",
       "      <th>boosters</th>\n",
       "      <th>cost_per_launch</th>\n",
       "      <th>success_rate_pct</th>\n",
       "      <th>first_flight</th>\n",
       "      <th>country</th>\n",
       "      <th>company</th>\n",
       "      <th>wikipedia</th>\n",
       "      <th>description</th>\n",
       "      <th>id</th>\n",
       "    </tr>\n",
       "  </thead>\n",
       "  <tbody>\n",
       "    <tr>\n",
       "      <th>0</th>\n",
       "      <td>{'meters': 22.25, 'feet': 73}</td>\n",
       "      <td>{'meters': 1.68, 'feet': 5.5}</td>\n",
       "      <td>{'kg': 30146, 'lb': 66460}</td>\n",
       "      <td>{'thrust_sea_level': {'kN': 420, 'lbf': 94000}...</td>\n",
       "      <td>{'thrust': {'kN': 31, 'lbf': 7000}, 'payloads'...</td>\n",
       "      <td>{'isp': {'sea_level': 267, 'vacuum': 304}, 'th...</td>\n",
       "      <td>{'number': 0, 'material': None}</td>\n",
       "      <td>[{'id': 'leo', 'name': 'Low Earth Orbit', 'kg'...</td>\n",
       "      <td>[https://imgur.com/DaCfMsj.jpg, https://imgur....</td>\n",
       "      <td>Falcon 1</td>\n",
       "      <td>...</td>\n",
       "      <td>2</td>\n",
       "      <td>0</td>\n",
       "      <td>6700000</td>\n",
       "      <td>40</td>\n",
       "      <td>2006-03-24</td>\n",
       "      <td>Republic of the Marshall Islands</td>\n",
       "      <td>SpaceX</td>\n",
       "      <td>https://en.wikipedia.org/wiki/Falcon_1</td>\n",
       "      <td>The Falcon 1 was an expendable launch system p...</td>\n",
       "      <td>5e9d0d95eda69955f709d1eb</td>\n",
       "    </tr>\n",
       "    <tr>\n",
       "      <th>1</th>\n",
       "      <td>{'meters': 70, 'feet': 229.6}</td>\n",
       "      <td>{'meters': 3.7, 'feet': 12}</td>\n",
       "      <td>{'kg': 549054, 'lb': 1207920}</td>\n",
       "      <td>{'thrust_sea_level': {'kN': 7607, 'lbf': 17100...</td>\n",
       "      <td>{'thrust': {'kN': 934, 'lbf': 210000}, 'payloa...</td>\n",
       "      <td>{'isp': {'sea_level': 288, 'vacuum': 312}, 'th...</td>\n",
       "      <td>{'number': 4, 'material': 'carbon fiber'}</td>\n",
       "      <td>[{'id': 'leo', 'name': 'Low Earth Orbit', 'kg'...</td>\n",
       "      <td>[https://farm1.staticflickr.com/929/2878733830...</td>\n",
       "      <td>Falcon 9</td>\n",
       "      <td>...</td>\n",
       "      <td>2</td>\n",
       "      <td>0</td>\n",
       "      <td>50000000</td>\n",
       "      <td>98</td>\n",
       "      <td>2010-06-04</td>\n",
       "      <td>United States</td>\n",
       "      <td>SpaceX</td>\n",
       "      <td>https://en.wikipedia.org/wiki/Falcon_9</td>\n",
       "      <td>Falcon 9 is a two-stage rocket designed and ma...</td>\n",
       "      <td>5e9d0d95eda69973a809d1ec</td>\n",
       "    </tr>\n",
       "    <tr>\n",
       "      <th>2</th>\n",
       "      <td>{'meters': 70, 'feet': 229.6}</td>\n",
       "      <td>{'meters': 12.2, 'feet': 39.9}</td>\n",
       "      <td>{'kg': 1420788, 'lb': 3125735}</td>\n",
       "      <td>{'thrust_sea_level': {'kN': 22819, 'lbf': 5130...</td>\n",
       "      <td>{'thrust': {'kN': 934, 'lbf': 210000}, 'payloa...</td>\n",
       "      <td>{'isp': {'sea_level': 288, 'vacuum': 312}, 'th...</td>\n",
       "      <td>{'number': 12, 'material': 'carbon fiber'}</td>\n",
       "      <td>[{'id': 'leo', 'name': 'Low Earth Orbit', 'kg'...</td>\n",
       "      <td>[https://farm5.staticflickr.com/4599/385838292...</td>\n",
       "      <td>Falcon Heavy</td>\n",
       "      <td>...</td>\n",
       "      <td>2</td>\n",
       "      <td>2</td>\n",
       "      <td>90000000</td>\n",
       "      <td>100</td>\n",
       "      <td>2018-02-06</td>\n",
       "      <td>United States</td>\n",
       "      <td>SpaceX</td>\n",
       "      <td>https://en.wikipedia.org/wiki/Falcon_Heavy</td>\n",
       "      <td>With the ability to lift into orbit over 54 me...</td>\n",
       "      <td>5e9d0d95eda69974db09d1ed</td>\n",
       "    </tr>\n",
       "    <tr>\n",
       "      <th>3</th>\n",
       "      <td>{'meters': 118, 'feet': 387}</td>\n",
       "      <td>{'meters': 9, 'feet': 30}</td>\n",
       "      <td>{'kg': 1335000, 'lb': 2943000}</td>\n",
       "      <td>{'thrust_sea_level': {'kN': 128000, 'lbf': 287...</td>\n",
       "      <td>{'thrust': {'kN': 1957, 'lbf': 440000}, 'paylo...</td>\n",
       "      <td>{'isp': {'sea_level': 330, 'vacuum': 380}, 'th...</td>\n",
       "      <td>{'number': 6, 'material': 'stainless steel'}</td>\n",
       "      <td>[{'id': 'leo', 'name': 'Low Earth Orbit', 'kg'...</td>\n",
       "      <td>[https://live.staticflickr.com/65535/489541389...</td>\n",
       "      <td>Starship</td>\n",
       "      <td>...</td>\n",
       "      <td>2</td>\n",
       "      <td>0</td>\n",
       "      <td>7000000</td>\n",
       "      <td>0</td>\n",
       "      <td>2021-12-01</td>\n",
       "      <td>United States</td>\n",
       "      <td>SpaceX</td>\n",
       "      <td>https://en.wikipedia.org/wiki/SpaceX_Starship</td>\n",
       "      <td>Starship and Super Heavy Rocket represent a fu...</td>\n",
       "      <td>5e9d0d96eda699382d09d1ee</td>\n",
       "    </tr>\n",
       "  </tbody>\n",
       "</table>\n",
       "<p>4 rows × 22 columns</p>\n",
       "</div>"
      ],
      "text/plain": [
       "                          height                        diameter  \\\n",
       "0  {'meters': 22.25, 'feet': 73}   {'meters': 1.68, 'feet': 5.5}   \n",
       "1  {'meters': 70, 'feet': 229.6}     {'meters': 3.7, 'feet': 12}   \n",
       "2  {'meters': 70, 'feet': 229.6}  {'meters': 12.2, 'feet': 39.9}   \n",
       "3   {'meters': 118, 'feet': 387}       {'meters': 9, 'feet': 30}   \n",
       "\n",
       "                             mass  \\\n",
       "0      {'kg': 30146, 'lb': 66460}   \n",
       "1   {'kg': 549054, 'lb': 1207920}   \n",
       "2  {'kg': 1420788, 'lb': 3125735}   \n",
       "3  {'kg': 1335000, 'lb': 2943000}   \n",
       "\n",
       "                                         first_stage  \\\n",
       "0  {'thrust_sea_level': {'kN': 420, 'lbf': 94000}...   \n",
       "1  {'thrust_sea_level': {'kN': 7607, 'lbf': 17100...   \n",
       "2  {'thrust_sea_level': {'kN': 22819, 'lbf': 5130...   \n",
       "3  {'thrust_sea_level': {'kN': 128000, 'lbf': 287...   \n",
       "\n",
       "                                        second_stage  \\\n",
       "0  {'thrust': {'kN': 31, 'lbf': 7000}, 'payloads'...   \n",
       "1  {'thrust': {'kN': 934, 'lbf': 210000}, 'payloa...   \n",
       "2  {'thrust': {'kN': 934, 'lbf': 210000}, 'payloa...   \n",
       "3  {'thrust': {'kN': 1957, 'lbf': 440000}, 'paylo...   \n",
       "\n",
       "                                             engines  \\\n",
       "0  {'isp': {'sea_level': 267, 'vacuum': 304}, 'th...   \n",
       "1  {'isp': {'sea_level': 288, 'vacuum': 312}, 'th...   \n",
       "2  {'isp': {'sea_level': 288, 'vacuum': 312}, 'th...   \n",
       "3  {'isp': {'sea_level': 330, 'vacuum': 380}, 'th...   \n",
       "\n",
       "                                   landing_legs  \\\n",
       "0               {'number': 0, 'material': None}   \n",
       "1     {'number': 4, 'material': 'carbon fiber'}   \n",
       "2    {'number': 12, 'material': 'carbon fiber'}   \n",
       "3  {'number': 6, 'material': 'stainless steel'}   \n",
       "\n",
       "                                     payload_weights  \\\n",
       "0  [{'id': 'leo', 'name': 'Low Earth Orbit', 'kg'...   \n",
       "1  [{'id': 'leo', 'name': 'Low Earth Orbit', 'kg'...   \n",
       "2  [{'id': 'leo', 'name': 'Low Earth Orbit', 'kg'...   \n",
       "3  [{'id': 'leo', 'name': 'Low Earth Orbit', 'kg'...   \n",
       "\n",
       "                                       flickr_images          name  ...  \\\n",
       "0  [https://imgur.com/DaCfMsj.jpg, https://imgur....      Falcon 1  ...   \n",
       "1  [https://farm1.staticflickr.com/929/2878733830...      Falcon 9  ...   \n",
       "2  [https://farm5.staticflickr.com/4599/385838292...  Falcon Heavy  ...   \n",
       "3  [https://live.staticflickr.com/65535/489541389...      Starship  ...   \n",
       "\n",
       "  stages  boosters  cost_per_launch  success_rate_pct  first_flight  \\\n",
       "0      2         0          6700000                40    2006-03-24   \n",
       "1      2         0         50000000                98    2010-06-04   \n",
       "2      2         2         90000000               100    2018-02-06   \n",
       "3      2         0          7000000                 0    2021-12-01   \n",
       "\n",
       "                            country company  \\\n",
       "0  Republic of the Marshall Islands  SpaceX   \n",
       "1                     United States  SpaceX   \n",
       "2                     United States  SpaceX   \n",
       "3                     United States  SpaceX   \n",
       "\n",
       "                                       wikipedia  \\\n",
       "0         https://en.wikipedia.org/wiki/Falcon_1   \n",
       "1         https://en.wikipedia.org/wiki/Falcon_9   \n",
       "2     https://en.wikipedia.org/wiki/Falcon_Heavy   \n",
       "3  https://en.wikipedia.org/wiki/SpaceX_Starship   \n",
       "\n",
       "                                         description                        id  \n",
       "0  The Falcon 1 was an expendable launch system p...  5e9d0d95eda69955f709d1eb  \n",
       "1  Falcon 9 is a two-stage rocket designed and ma...  5e9d0d95eda69973a809d1ec  \n",
       "2  With the ability to lift into orbit over 54 me...  5e9d0d95eda69974db09d1ed  \n",
       "3  Starship and Super Heavy Rocket represent a fu...  5e9d0d96eda699382d09d1ee  \n",
       "\n",
       "[4 rows x 22 columns]"
      ]
     },
     "execution_count": 11,
     "metadata": {},
     "output_type": "execute_result"
    }
   ],
   "source": [
    "df_rockets.head()"
   ]
  },
  {
   "cell_type": "code",
   "execution_count": 12,
   "metadata": {},
   "outputs": [
    {
     "data": {
      "text/plain": [
       "Index(['height', 'diameter', 'mass', 'first_stage', 'second_stage', 'engines',\n",
       "       'landing_legs', 'payload_weights', 'flickr_images', 'name', 'type',\n",
       "       'active', 'stages', 'boosters', 'cost_per_launch', 'success_rate_pct',\n",
       "       'first_flight', 'country', 'company', 'wikipedia', 'description', 'id'],\n",
       "      dtype='object')"
      ]
     },
     "execution_count": 12,
     "metadata": {},
     "output_type": "execute_result"
    }
   ],
   "source": [
    "# Display column names\n",
    "df_rockets.columns"
   ]
  },
  {
   "cell_type": "code",
   "execution_count": 13,
   "metadata": {},
   "outputs": [
    {
     "data": {
      "text/html": [
       "<div>\n",
       "<style scoped>\n",
       "    .dataframe tbody tr th:only-of-type {\n",
       "        vertical-align: middle;\n",
       "    }\n",
       "\n",
       "    .dataframe tbody tr th {\n",
       "        vertical-align: top;\n",
       "    }\n",
       "\n",
       "    .dataframe thead th {\n",
       "        text-align: right;\n",
       "    }\n",
       "</style>\n",
       "<table border=\"1\" class=\"dataframe\">\n",
       "  <thead>\n",
       "    <tr style=\"text-align: right;\">\n",
       "      <th></th>\n",
       "      <th>stages</th>\n",
       "      <th>boosters</th>\n",
       "      <th>cost_per_launch</th>\n",
       "      <th>success_rate_pct</th>\n",
       "    </tr>\n",
       "  </thead>\n",
       "  <tbody>\n",
       "    <tr>\n",
       "      <th>count</th>\n",
       "      <td>4.0</td>\n",
       "      <td>4.0</td>\n",
       "      <td>4.000000e+00</td>\n",
       "      <td>4.000000</td>\n",
       "    </tr>\n",
       "    <tr>\n",
       "      <th>mean</th>\n",
       "      <td>2.0</td>\n",
       "      <td>0.5</td>\n",
       "      <td>3.842500e+07</td>\n",
       "      <td>59.500000</td>\n",
       "    </tr>\n",
       "    <tr>\n",
       "      <th>std</th>\n",
       "      <td>0.0</td>\n",
       "      <td>1.0</td>\n",
       "      <td>3.994983e+07</td>\n",
       "      <td>48.452726</td>\n",
       "    </tr>\n",
       "    <tr>\n",
       "      <th>min</th>\n",
       "      <td>2.0</td>\n",
       "      <td>0.0</td>\n",
       "      <td>6.700000e+06</td>\n",
       "      <td>0.000000</td>\n",
       "    </tr>\n",
       "    <tr>\n",
       "      <th>25%</th>\n",
       "      <td>2.0</td>\n",
       "      <td>0.0</td>\n",
       "      <td>6.925000e+06</td>\n",
       "      <td>30.000000</td>\n",
       "    </tr>\n",
       "    <tr>\n",
       "      <th>50%</th>\n",
       "      <td>2.0</td>\n",
       "      <td>0.0</td>\n",
       "      <td>2.850000e+07</td>\n",
       "      <td>69.000000</td>\n",
       "    </tr>\n",
       "    <tr>\n",
       "      <th>75%</th>\n",
       "      <td>2.0</td>\n",
       "      <td>0.5</td>\n",
       "      <td>6.000000e+07</td>\n",
       "      <td>98.500000</td>\n",
       "    </tr>\n",
       "    <tr>\n",
       "      <th>max</th>\n",
       "      <td>2.0</td>\n",
       "      <td>2.0</td>\n",
       "      <td>9.000000e+07</td>\n",
       "      <td>100.000000</td>\n",
       "    </tr>\n",
       "  </tbody>\n",
       "</table>\n",
       "</div>"
      ],
      "text/plain": [
       "       stages  boosters  cost_per_launch  success_rate_pct\n",
       "count     4.0       4.0     4.000000e+00          4.000000\n",
       "mean      2.0       0.5     3.842500e+07         59.500000\n",
       "std       0.0       1.0     3.994983e+07         48.452726\n",
       "min       2.0       0.0     6.700000e+06          0.000000\n",
       "25%       2.0       0.0     6.925000e+06         30.000000\n",
       "50%       2.0       0.0     2.850000e+07         69.000000\n",
       "75%       2.0       0.5     6.000000e+07         98.500000\n",
       "max       2.0       2.0     9.000000e+07        100.000000"
      ]
     },
     "execution_count": 13,
     "metadata": {},
     "output_type": "execute_result"
    }
   ],
   "source": [
    "# Summary statistics of numerical columns\n",
    "df_rockets.describe()"
   ]
  },
  {
   "cell_type": "code",
   "execution_count": 14,
   "metadata": {},
   "outputs": [
    {
     "data": {
      "image/png": "[encoded data removed]",
      "text/plain": [
       "<Figure size 800x600 with 1 Axes>"
      ]
     },
     "metadata": {},
     "output_type": "display_data"
    }
   ],
   "source": [
    "df_rockets['height_meters'] = df_rockets['height'].apply(lambda x: x['meters'] if 'meters' in x else None)\n",
    "\n",
    "# Histogram of rocket heights in meters\n",
    "plt.figure(figsize=(8, 6))\n",
    "sns.histplot(df_rockets['height_meters'].dropna(), bins=20, kde=True)\n",
    "plt.title('Distribution of Rocket Heights')\n",
    "plt.xlabel('Height (meters)')\n",
    "plt.ylabel('Frequency')\n",
    "plt.show()"
   ]
  }
 ],
 "metadata": {
  "kernelspec": {
   "display_name": "Python 3",
   "language": "python",
   "name": "python3"
  },
  "language_info": {
   "codemirror_mode": {
    "name": "ipython",
    "version": 3
   },
   "file_extension": ".py",
   "mimetype": "text/x-python",
   "name": "python",
   "nbconvert_exporter": "python",
   "pygments_lexer": "ipython3",
   "version": "3.11.7"
  }
 },
 "nbformat": 4,
 "nbformat_minor": 2
}
