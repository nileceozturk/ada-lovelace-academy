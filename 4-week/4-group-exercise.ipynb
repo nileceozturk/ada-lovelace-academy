{
 "cells": [
  {
   "cell_type": "markdown",
   "metadata": {},
   "source": [
    "# Exercise:\n",
    "Get information from webpage with beautiful soup.\n",
    "\n",
    "- https://www.crummy.com/software/BeautifulSoup/bs4/doc/"
   ]
  },
  {
   "cell_type": "markdown",
   "metadata": {},
   "source": [
    " - Get the links from job posts with python\n",
    " - If the time left, get another info from website you've chosen."
   ]
  },
  {
   "cell_type": "markdown",
   "metadata": {},
   "source": [
    "# Solution:"
   ]
  },
  {
   "cell_type": "code",
   "execution_count": 2,
   "metadata": {},
   "outputs": [],
   "source": [
    "import requests\n",
    "from bs4 import BeautifulSoup"
   ]
  },
  {
   "cell_type": "code",
   "execution_count": 20,
   "metadata": {},
   "outputs": [],
   "source": [
    "# Make a request to the website\n",
    "r = requests.get('https://realpython.github.io/fake-jobs/')\n",
    "\n",
    "# Parse the HTML\n",
    "soup = BeautifulSoup(r.text,'html.parser')"
   ]
  },
  {
   "cell_type": "code",
   "execution_count": 39,
   "metadata": {},
   "outputs": [
    {
     "name": "stdout",
     "output_type": "stream",
     "text": [
      "https://realpython.github.io/fake-jobs/jobs/senior-python-developer-0.html\n",
      "https://realpython.github.io/fake-jobs/jobs/software-engineer-python-10.html\n",
      "https://realpython.github.io/fake-jobs/jobs/python-programmer-entry-level-20.html\n",
      "https://realpython.github.io/fake-jobs/jobs/python-programmer-entry-level-30.html\n",
      "https://realpython.github.io/fake-jobs/jobs/software-developer-python-40.html\n",
      "https://realpython.github.io/fake-jobs/jobs/python-developer-50.html\n",
      "https://realpython.github.io/fake-jobs/jobs/back-end-web-developer-python-django-60.html\n",
      "https://realpython.github.io/fake-jobs/jobs/back-end-web-developer-python-django-70.html\n",
      "https://realpython.github.io/fake-jobs/jobs/python-programmer-entry-level-80.html\n",
      "https://realpython.github.io/fake-jobs/jobs/software-developer-python-90.html\n"
     ]
    }
   ],
   "source": [
    "# Find all job containers\n",
    "job_containers = soup.find_all('div', class_='card')\n",
    "\n",
    "# Create an empty list to store links\n",
    "python_job_links = [] \n",
    "\n",
    "for job in job_containers:\n",
    "    title = job.find('h2', class_='title is-5')\n",
    "    if title and 'Python' in title.get_text():\n",
    "        apply_link = job.find('a', class_='card-footer-item', string='Apply')\n",
    "        if apply_link:\n",
    "            python_job_links.append(apply_link['href'])\n",
    "\n",
    "# Print the list of links\n",
    "for link in python_job_links:\n",
    "    print(link)"
   ]
  },
  {
   "cell_type": "code",
   "execution_count": 46,
   "metadata": {},
   "outputs": [
    {
     "name": "stdout",
     "output_type": "stream",
     "text": [
      "Python iş ilanı: Senior Python Developer - Bağlantı: https://realpython.github.io/fake-jobs/jobs/senior-python-developer-0.html\n",
      "Python iş ilanı: Software Engineer (Python) - Bağlantı: https://realpython.github.io/fake-jobs/jobs/software-engineer-python-10.html\n",
      "Python iş ilanı: Python Programmer (Entry-Level) - Bağlantı: https://realpython.github.io/fake-jobs/jobs/python-programmer-entry-level-20.html\n",
      "Python iş ilanı: Python Programmer (Entry-Level) - Bağlantı: https://realpython.github.io/fake-jobs/jobs/python-programmer-entry-level-30.html\n",
      "Python iş ilanı: Software Developer (Python) - Bağlantı: https://realpython.github.io/fake-jobs/jobs/software-developer-python-40.html\n",
      "Python iş ilanı: Python Developer - Bağlantı: https://realpython.github.io/fake-jobs/jobs/python-developer-50.html\n",
      "Python iş ilanı: Back-End Web Developer (Python, Django) - Bağlantı: https://realpython.github.io/fake-jobs/jobs/back-end-web-developer-python-django-60.html\n",
      "Python iş ilanı: Back-End Web Developer (Python, Django) - Bağlantı: https://realpython.github.io/fake-jobs/jobs/back-end-web-developer-python-django-70.html\n",
      "Python iş ilanı: Python Programmer (Entry-Level) - Bağlantı: https://realpython.github.io/fake-jobs/jobs/python-programmer-entry-level-80.html\n",
      "Python iş ilanı: Software Developer (Python) - Bağlantı: https://realpython.github.io/fake-jobs/jobs/software-developer-python-90.html\n"
     ]
    }
   ],
   "source": [
    "# Find all job containers\n",
    "job_containers = soup.find_all('div', class_='card')\n",
    "\n",
    "# Create an empty list to store links\n",
    "python_job_links = [] \n",
    "\n",
    "for job in job_containers:\n",
    "    title = job.find('h2', class_='title is-5')\n",
    "    if title and 'Python' in title.get_text():\n",
    "        apply_link = job.find('a', class_='card-footer-item', string='Apply')\n",
    "        if apply_link:\n",
    "            job_title = title.get_text().strip()\n",
    "            job_link = apply_link['href']\n",
    "            python_job_links.append({'title': job_title, 'link': job_link})\n",
    "\n",
    "# Print titles and links together\n",
    "for job_data in python_job_links:\n",
    "    print(f\"Python iş ilanı: {job_data['title']} - Bağlantı: {job_data['link']}\")"
   ]
  }
 ],
 "metadata": {
  "kernelspec": {
   "display_name": "Python 3",
   "language": "python",
   "name": "python3"
  },
  "language_info": {
   "codemirror_mode": {
    "name": "ipython",
    "version": 3
   },
   "file_extension": ".py",
   "mimetype": "text/x-python",
   "name": "python",
   "nbconvert_exporter": "python",
   "pygments_lexer": "ipython3",
   "version": "3.11.7"
  }
 },
 "nbformat": 4,
 "nbformat_minor": 2
}
